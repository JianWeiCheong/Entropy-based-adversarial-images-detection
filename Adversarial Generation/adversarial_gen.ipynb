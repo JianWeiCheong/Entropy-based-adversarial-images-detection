{
 "cells": [
  {
   "cell_type": "markdown",
   "metadata": {},
   "source": [
    "## Adversarial Generation\n",
    "\n",
    "We uses 'foolbox' to help us generate adversarial images. This save us the trouble of implementing each attack ourselves. Additionally, with 'foolbox', during our preliminary research we are able to try out different attacks before choosing the attacks we will use in our project. This would not be possible if we were to implement each attack from scratch ourselves, as it is much more tedious and thus prevents us from trying out a multitude of different attacks.\n",
    "\n",
    "(Note that we uses TensorFlow backend. If you are using Theano instead, some tweaks need to be made to the image reshaping.)"
   ]
  },
  {
   "cell_type": "code",
   "execution_count": 1,
   "metadata": {},
   "outputs": [
    {
     "name": "stderr",
     "output_type": "stream",
     "text": [
      "Using TensorFlow backend.\n"
     ]
    }
   ],
   "source": [
    "import keras\n",
    "import numpy as np\n",
    "import matplotlib.pyplot as plt\n",
    "from keras.utils import np_utils\n",
    "\n",
    "import foolbox         # foolbox is a package for easy generation of adversarial attacks.\n",
    "from tqdm import tqdm  # tqdm is a function that automatically generate a loading bar for loops.\n",
    "\n",
    "from keras.datasets import cifar10, mnist, fashion_mnist"
   ]
  },
  {
   "cell_type": "code",
   "execution_count": 24,
   "metadata": {},
   "outputs": [],
   "source": [
    "def gen_adv_images(fmodel, images, labels, cont=0, numImages= 10000, epsilon=0.3):\n",
    "    \"\"\"Generate adversarial images and save in a .npy file.\n",
    "    \n",
    "    The 'attack' object is changed based on which attack we want.\n",
    "    Attacks used:\n",
    "        foolbox.attacks.FGSM(fmodel)\n",
    "        foolbox.attacks.DeepFoolAttack(fmodel)\n",
    "        foolbox.attacks.SinglePixelAttack(fmodel)\n",
    "        foolbox.attacks.SaliencyMapAttack(fmodel)\n",
    "        \n",
    "    More attacks: https://foolbox.readthedocs.io/en/latest/modules/attacks.html\n",
    "    \n",
    "    cont       :    cont means continue and is used to set the first image index.\n",
    "                    This allows you to resume the generation from a specific index.\n",
    "    \n",
    "    numImages  :    The number of images to generate, starting from cont index.\n",
    "\n",
    "    epsilon    :    epsilon is only used for FGSM attack to set the magnitude of perturbation.\n",
    "                    Not providing an epsilon will cause the attack algorithm to search for\n",
    "                    a minimum epsilon value, extending the generation runtime but providing\n",
    "                    a better adversarial attack.\n",
    "    \"\"\"\n",
    "\n",
    "    attack = foolbox.attacks.FGSM(fmodel)\n",
    "    adversarial_images = np.zeros(np.shape(images))\n",
    "\n",
    "    for i in tqdm(range(numImages)):\n",
    "        image = images[i + cont]\n",
    "        label = labels[i + cont]      # If images are greyscale\n",
    "        #label = labels[i + cont][0]  # If images are RGB\n",
    "        \n",
    "        adversarial = attack(image, label, epsilons=[epsilon])\n",
    "        adversarial_images[i] = adversarial\n",
    "\n",
    "    np.save('adversarial_img.npy', adversarial_images)\n"
   ]
  },
  {
   "cell_type": "code",
   "execution_count": 2,
   "metadata": {},
   "outputs": [],
   "source": [
    "# Load foolbox model as keras model\n",
    "keras.backend.set_learning_phase(0)\n",
    "kmodel = keras.models.load_model('MNIST Data/mnist.h5')\n",
    "fmodel = foolbox.models.KerasModel(kmodel, bounds=(0, 1))\n",
    "\n",
    "# For CIFAR10\n",
    "#mean = np.array([0.4914, 0.4822, 0.4465]).reshape((1, 1, 3))\n",
    "#std = np.array([0.2023, 0.1994, 0.2010]).reshape((1, 1, 3))\n",
    "#fmodel = foolbox.models.KerasModel(kmodel, bounds=(0, 1), preprocessing=(mean, std))\n",
    "\n",
    "# Load image datasets\n",
    "_, (images, labels) = mnist.load_data()\n",
    "\n",
    "images = images.reshape(10000, 28, 28, 1)  # For MNIST and Fashion-MNIST\n",
    "images = images.astype('float32')\n",
    "images = images / 255"
   ]
  },
  {
   "cell_type": "code",
   "execution_count": null,
   "metadata": {},
   "outputs": [],
   "source": [
    "# Start generating adversarial iamges\n",
    "\n",
    "# Generation takes a long time depending on the attack, datasets and model,\n",
    "# recommended to generate in batches using cont and numImages.\n",
    "# Batches can be concatenated later using np.concatenate.\n",
    "\n",
    "gen_adv_images(fmodel, images, labels, cont=0, numImages=10000)\n",
    "\n",
    "# Note that the program outputs NaN images if an adversarial perturbation is not found.\n",
    "# This happens frequently for SinglePixelAttack for CIFAR10 due to the robustness of model.\n",
    "# One can also increase the max iterations to generate the adversarial, but this increases computing time.\n",
    "# Look at the docs for more info: https://foolbox.readthedocs.io/en/latest/modules/attacks.html"
   ]
  },
  {
   "cell_type": "code",
   "execution_count": 35,
   "metadata": {},
   "outputs": [],
   "source": [
    "# Load adversarial images\n",
    "adversarial_images = np.load('MNIST Data/mnist_fgsm_adv.npy')"
   ]
  },
  {
   "cell_type": "code",
   "execution_count": null,
   "metadata": {},
   "outputs": [],
   "source": [
    "# Evaluate the accuracy of the model in classifying the adversarial images.\n",
    "scores = kmodel.evaluate(adversarial_images, np_utils.to_categorical(labels), batch_size=128, verbose=1)\n",
    "print('\\nTest result: %.3f loss: %.3f' % (scores[1] * 100, scores[0]))"
   ]
  },
  {
   "cell_type": "code",
   "execution_count": 34,
   "metadata": {},
   "outputs": [
    {
     "data": {
      "image/png": "[encoded data removed]",
      "text/plain": [
       "<Figure size 432x288 with 3 Axes>"
      ]
     },
     "metadata": {
      "needs_background": "light"
     },
     "output_type": "display_data"
    }
   ],
   "source": [
    "# Visualising the attacks\n",
    "# For CIFAR10, reshape into (32, 32, 3), and remove cmap='gray'\n",
    "imgIndex = 77\n",
    "imgPlot = images[imgIndex].reshape(28, 28)\n",
    "adversarialPlot = adversarial_images[imgIndex].reshape(28, 28)\n",
    "\n",
    "plt.figure()\n",
    "plt.subplot(1, 3, 1)\n",
    "plt.title('Original')\n",
    "plt.imshow(imgPlot, cmap='gray')\n",
    "plt.axis('off')\n",
    "\n",
    "plt.subplot(1, 3, 2)\n",
    "plt.title('Adversarial')\n",
    "plt.imshow(adversarialPlot, cmap='gray')\n",
    "plt.axis('off')\n",
    "\n",
    "plt.subplot(1, 3, 3)\n",
    "plt.title('Difference')\n",
    "difference = adversarialPlot - imgPlot\n",
    "plt.imshow(difference / abs(difference).max(), cmap='gray')\n",
    "plt.axis('off')\n",
    "plt.show()"
   ]
  }
 ],
 "metadata": {
  "kernelspec": {
   "display_name": "Python 3",
   "language": "python",
   "name": "python3"
  },
  "language_info": {
   "codemirror_mode": {
    "name": "ipython",
    "version": 3
   },
   "file_extension": ".py",
   "mimetype": "text/x-python",
   "name": "python",
   "nbconvert_exporter": "python",
   "pygments_lexer": "ipython3",
   "version": "3.6.7"
  }
 },
 "nbformat": 4,
 "nbformat_minor": 2
}
