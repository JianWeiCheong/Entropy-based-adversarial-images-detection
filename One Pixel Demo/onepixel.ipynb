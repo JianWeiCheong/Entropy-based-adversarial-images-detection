{
 "cells": [
  {
   "cell_type": "markdown",
   "metadata": {},
   "source": [
    "## One Pixel Attack Demo\n",
    "\n",
    "Here, we attempt to implement the one pixel attack ourselves in order to make a .gif to demonstrate the one pixel attack in the presentation.\n",
    "However, the differential evolution algorithm is borrowed from the original authors of the one pixel attack.\n",
    "Please look at 'differential_evolution.py' for more infomation.\n",
    "The helper function 'helper.py' is also borrowed from them. The helper function simply allow us to plot and visualise the image easily.\n",
    "\n",
    "We will implement the attack on our trained CIFAR10 model. The class file to load our model is again, adapted from the original authors.\n",
    "\n",
    "(This program doesn't produce the .gif. Rather, we saved individual images and used an online .gif making service.)"
   ]
  },
  {
   "cell_type": "code",
   "execution_count": 1,
   "metadata": {},
   "outputs": [
    {
     "name": "stderr",
     "output_type": "stream",
     "text": [
      "Using TensorFlow backend.\n"
     ]
    }
   ],
   "source": [
    "import numpy as np\n",
    "import matplotlib\n",
    "import keras\n",
    "from keras.datasets import cifar10\n",
    "\n",
    "# This is our class to load our CIFAR10 CNN model.\n",
    "from loadcifar10 import MyCIFAR10\n",
    "\n",
    "# This two functions are from the original authors of the one pixel attack.\n",
    "from differential_evolution import differential_evolution\n",
    "import helper"
   ]
  },
  {
   "cell_type": "code",
   "execution_count": 2,
   "metadata": {},
   "outputs": [
    {
     "name": "stdout",
     "output_type": "stream",
     "text": [
      "Successfully loaded mycifar10\n"
     ]
    }
   ],
   "source": [
    "# Load dataset and our CIFAR10 model.\n",
    "(x_train, y_train), (x_test, y_test) = cifar10.load_data()\n",
    "class_names = ['airplane', 'automobile', 'bird', 'cat', 'deer', 'dog', 'frog', 'horse', 'ship', 'truck']\n",
    "model = MyCIFAR10()"
   ]
  },
  {
   "cell_type": "code",
   "execution_count": 3,
   "metadata": {},
   "outputs": [],
   "source": [
    "def onepixel_attack(image_index, model, maxiter=75, popsize=400):\n",
    "    \"\"\"Implement the one pixel attack and plot the attacked image.\n",
    "       \n",
    "    1.) Get the differential evolution function to calculate the attack vectors.\n",
    "    2.) Perturb the image with the attack vectors.\n",
    "    3.) Classify/predict the perturbed image.\n",
    "    4.) Plot perturbed image, predicted class and actual class.\n",
    "    \"\"\"\n",
    "\n",
    "    # The true class of the image.\n",
    "    actual_class = y_test[image_index, 0]\n",
    "    \n",
    "    # These are parameters needed by the differential evolution function.\n",
    "    # Bounds for x,y and r,g,b. (32 pixels for CIFAR10)\n",
    "    bounds = [(0, 32), (0, 32), (0, 256), (0, 256), (0, 256)]\n",
    "    # Population multiplier\n",
    "    popmul = max(1, popsize // len(bounds))\n",
    "    \n",
    "    # We have to define predict_class in this way for differential evolution function to accept it.\n",
    "    def predict_fn(vecs):\n",
    "        return predict_classes(vecs, x_test[image_index], actual_class, model)\n",
    "\n",
    "    # Differential evolution\n",
    "    attack_result = differential_evolution(predict_fn, bounds, maxiter=maxiter, popsize=popmul,\n",
    "                                           recombination=1, atol=-1, polish=False)\n",
    "\n",
    "    # Perturb image based on the attack calculated by differential evolution\n",
    "    attack_image = perturb_image(attack_result.x, x_test[image_index])[0]\n",
    "\n",
    "    # Predict the perturbed image and find the predicted class.\n",
    "    predicted_probs = model.predict_one(attack_image)\n",
    "    predicted_class = np.argmax(predicted_probs)\n",
    "\n",
    "    # Plot the perturbed image.\n",
    "    helper.plot_image(attack_image, actual_class, class_names, predicted_class)\n",
    "\n",
    "\n",
    "def predict_classes(vecs, image, actual_class, model):\n",
    "    \"\"\"Simple function that returns the predictions of the perturbed image.\"\"\"\n",
    "\n",
    "    # Perturb the image.\n",
    "    images_perturbed = perturb_image(vecs, image)\n",
    "\n",
    "    # Predict the class.\n",
    "    predictions = model.predict(images_perturbed)[:, actual_class]\n",
    "\n",
    "    return predictions\n",
    "\n",
    "\n",
    "def perturb_image(vecs, image):\n",
    "    \"\"\"Perturb the image based on the attack vector vecs.\"\"\"\n",
    "\n",
    "    # Put vecs in an array if its not already in an array.\n",
    "    if vecs.ndim < 2:\n",
    "        vecs = np.array([vecs])\n",
    "\n",
    "    # Tile the image len(vecs) number of times.\n",
    "    tile = [len(vecs)] + [1] * (vecs.ndim + 1)\n",
    "    images = np.tile(image, tile)\n",
    "    \n",
    "    # vecs is floored as int.\n",
    "    vecs = vecs.astype(int)\n",
    "    \n",
    "    for vec, image in zip(vecs, images):\n",
    "        # Split vec into groups of 5 elements -> (x, y, r, g, b).\n",
    "        pixels = np.split(vec, len(vec) // 5)\n",
    "\n",
    "        # At each pixel's x, y position, assign its rgb value\n",
    "        for pixel in pixels:\n",
    "            x_pos, y_pos, *rgb = pixel\n",
    "            image[x_pos, y_pos] = rgb\n",
    "    \n",
    "    return images"
   ]
  },
  {
   "cell_type": "code",
   "execution_count": 4,
   "metadata": {},
   "outputs": [
    {
     "data": {
      "image/png": "[encoded data removed]",
      "text/plain": [
       "<Figure size 432x288 with 1 Axes>"
      ]
     },
     "metadata": {},
     "output_type": "display_data"
    }
   ],
   "source": [
    "# Turns out our model is robust against one pixel attack.\n",
    "# Image 55 happens to be one of the images that can be attacked.\n",
    "onepixel_attack(55, model, maxiter=20);"
   ]
  }
 ],
 "metadata": {
  "kernelspec": {
   "display_name": "Python 3",
   "language": "python",
   "name": "python3"
  },
  "language_info": {
   "codemirror_mode": {
    "name": "ipython",
    "version": 3
   },
   "file_extension": ".py",
   "mimetype": "text/x-python",
   "name": "python",
   "nbconvert_exporter": "python",
   "pygments_lexer": "ipython3",
   "version": "3.6.7"
  }
 },
 "nbformat": 4,
 "nbformat_minor": 2
}
